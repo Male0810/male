{
 "cells": [
  {
   "cell_type": "markdown",
   "metadata": {},
   "source": [
    "Manejo de variables "
   ]
  },
  {
   "cell_type": "code",
   "execution_count": null,
   "metadata": {},
   "outputs": [],
   "source": [
    "#variable entera\n",
    "#variable_int = 12\n",
    "#print(variable_int)\n",
    "#print(version_uno)\n"
   ]
  },
  {
   "cell_type": "code",
   "execution_count": 1,
   "metadata": {},
   "outputs": [
    {
     "name": "stdout",
     "output_type": "stream",
     "text": [
      "holas\n"
     ]
    }
   ],
   "source": [
    "_manejo=\"holas\"\n",
    "print(_manejo)"
   ]
  },
  {
   "cell_type": "code",
   "execution_count": 41,
   "metadata": {},
   "outputs": [
    {
     "name": "stdout",
     "output_type": "stream",
     "text": [
      "['a', 'b', 1, 1, 2]\n",
      "1\n",
      "<class 'int'>\n",
      "['a', 'b']\n"
     ]
    }
   ],
   "source": [
    "# variable_int = 12\n",
    "# print(variable_int)\n",
    "# print(\"seccion_uno\") \n",
    "\n",
    "my_string= \"thisStringsAwesome\"\n",
    "s=10 \n",
    "\n",
    "\n",
    "my_string.upper()\n",
    "my_string.lower()\n",
    "my_string.count(\"th\")\n",
    "my_string.replace(\"this\",\"dos\")\n",
    "\n",
    "my_string_dos = \"textodos\"\n",
    "\n",
    "#concatenar\n",
    "my_string + my_string_dos\n",
    "\n",
    "'me' in my_string\n",
    "\n",
    "lista= ['a','b',1,1,2]\n",
    "\n",
    "print(lista)\n",
    "lista[1]\n",
    "print(lista[2])\n",
    "print(type(lista[2]))\n",
    "print(lista[0:2])\n",
    "\n"
   ]
  }
 ],
 "metadata": {
  "kernelspec": {
   "display_name": "Python 3",
   "language": "python",
   "name": "python3"
  },
  "language_info": {
   "codemirror_mode": {
    "name": "ipython",
    "version": 3
   },
   "file_extension": ".py",
   "mimetype": "text/x-python",
   "name": "python",
   "nbconvert_exporter": "python",
   "pygments_lexer": "ipython3",
   "version": "3.11.4"
  }
 },
 "nbformat": 4,
 "nbformat_minor": 2
}
